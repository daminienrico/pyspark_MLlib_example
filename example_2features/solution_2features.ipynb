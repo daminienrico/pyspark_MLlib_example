{
 "cells": [
  {
   "cell_type": "code",
   "execution_count": 1,
   "metadata": {},
   "outputs": [],
   "source": [
    "import findspark\n",
    "findspark.init(\"/opt/spark\")\n",
    "from pyspark import SparkConf, SparkContext\n",
    "from pyspark.sql import SQLContext\n",
    "from pyspark import sql\n",
    "\n",
    "conf = SparkConf().setAppName(\"SO_project\").setMaster(\"spark://damiani-master-slave-0:7077\")\n",
    "sc = SparkContext(conf = conf)\n",
    "sqlContext = sql.SQLContext(sc)"
   ]
  },
  {
   "cell_type": "code",
   "execution_count": 7,
   "metadata": {},
   "outputs": [],
   "source": [
    "import sh\n",
    "hdfsdir = '/user/ubuntu/hdfs/dataset'\n",
    "files = [ line.rsplit(None,1)[-1] for line in sh.hdfs('dfs','-ls',hdfsdir).split('\\n') if len(line.rsplit(None,1))][2:]   "
   ]
  },
  {
   "cell_type": "code",
   "execution_count": 8,
   "metadata": {},
   "outputs": [],
   "source": [
    " rdd = sc.textFile(files[0])"
   ]
  },
  {
   "cell_type": "code",
   "execution_count": 9,
   "metadata": {},
   "outputs": [
    {
     "data": {
      "text/plain": [
       "[u'targa;varco;corsia;timestamp;nazione',\n",
       " u'1645281;10;2.0;2016-07-03 12:51:56;?',\n",
       " u'8382057;2;1.0;2016-07-03 19:06:16;?',\n",
       " u'145319;20;1.0;2016-07-03 08:46:59;?',\n",
       " u'145319;25;1.0;2016-07-03 08:34:56;?']"
      ]
     },
     "execution_count": 9,
     "metadata": {},
     "output_type": "execute_result"
    }
   ],
   "source": [
    "rdd.take(5)"
   ]
  },
  {
   "cell_type": "code",
   "execution_count": 10,
   "metadata": {},
   "outputs": [
    {
     "name": "stdout",
     "output_type": "stream",
     "text": [
      "/user/ubuntu/hdfs/dataset/03.07.2016.csv\n",
      "/user/ubuntu/hdfs/dataset/04.07.2016.csv\n",
      "/user/ubuntu/hdfs/dataset/05.07.2016.csv\n",
      "/user/ubuntu/hdfs/dataset/06.07.2016.csv\n"
     ]
    }
   ],
   "source": [
    "files = files[:4]\n",
    "for x in files : print x "
   ]
  },
  {
   "cell_type": "code",
   "execution_count": null,
   "metadata": {},
   "outputs": [],
   "source": []
  },
  {
   "cell_type": "code",
   "execution_count": 4,
   "metadata": {},
   "outputs": [],
   "source": [
    "def apply_preprocessing(rdd) :\n",
    "    '''\n",
    "    This function applies some transformations in order to have a dataset with this shape: ((plate,path),times)\n",
    "     - **parameters**, **types**, **return** and **return types**::\n",
    "          :param rdd: RDD to transform\n",
    "          :type rdd: pyspark.rdd.RDD\n",
    "          :return: return the transformed RDD \n",
    "          :rtype: pyspark.rdd.RDD\n",
    "    '''\n",
    "    header = rdd.first()\n",
    "    rdd = rdd.filter(lambda lines : lines!=header)\n",
    "    rdd = rdd.map(lambda lines : lines.split(\";\")).map(lambda (l1,l2,l3,l4,l5) : (l1,str(l2))).reduceByKey(lambda g1,g2: str(g1)+\"-\"+str(g2))\n",
    "    rdd = rdd.map(lambda (plate,path) : ((plate,path),1))\n",
    "    return rdd "
   ]
  },
  {
   "cell_type": "code",
   "execution_count": 5,
   "metadata": {},
   "outputs": [],
   "source": [
    "def update(rdd,rdd_new) :\n",
    "    '''\n",
    "    Given two RDDs, this function provides a new RDD, which is the union of the RDDs.\n",
    "    Additionally, the field \"times\" of the new RDD has been updated. \n",
    "     - **parameters**, **types**, **return** and **return types**::\n",
    "          :param rdd,rdd_new: one of the RDDs to compare\n",
    "          :type rdd,rdd_new: pyspark.rdd.RDD\n",
    "          :return: return the new RDD \n",
    "          :rtype: pyspark.rdd.RDD\n",
    "    '''\n",
    "    result = rdd.union(rdd_new)\n",
    "    result = result.reduceByKey(lambda a,b : a+b)\n",
    "    return result"
   ]
  },
  {
   "cell_type": "code",
   "execution_count": 6,
   "metadata": {},
   "outputs": [],
   "source": [
    "def main() :\n",
    "    rdd_info = sc.textFile(\"hdfs:/\"+files[0])\n",
    "    rdd_info = apply_preprocessing(rdd_info)\n",
    "    \n",
    "    for file_path in files[1:] : \n",
    "        rdd_new = sc.textFile(file_path)\n",
    "        rdd_new = apply_preprocessing(rdd_new)\n",
    "        rdd_info = update(rdd_info,rdd_new)\n",
    "    return rdd_info    "
   ]
  },
  {
   "cell_type": "code",
   "execution_count": 7,
   "metadata": {},
   "outputs": [
    {
     "name": "stdout",
     "output_type": "stream",
     "text": [
      "CPU times: user 114 ms, sys: 6.22 ms, total: 120 ms\n",
      "Wall time: 7.53 s\n"
     ]
    }
   ],
   "source": [
    "%time rdd = main()"
   ]
  },
  {
   "cell_type": "code",
   "execution_count": 8,
   "metadata": {},
   "outputs": [
    {
     "name": "stdout",
     "output_type": "stream",
     "text": [
      "CPU times: user 20.7 ms, sys: 1.01 ms, total: 21.7 ms\n",
      "Wall time: 1min 4s\n"
     ]
    },
    {
     "data": {
      "text/plain": [
       "[((u'1781733', '22-1-12-14-8-3'), 1),\n",
       " ((u'748072', '13-3-8-5-23-18-10-9'), 1),\n",
       " ((u'703145', '9-10-18-23-5-8-3-13'), 1),\n",
       " ((u'7656964', '16-2'), 1),\n",
       " ((u'8530468', '18'), 1)]"
      ]
     },
     "execution_count": 8,
     "metadata": {},
     "output_type": "execute_result"
    }
   ],
   "source": [
    "%time rdd.take(5)"
   ]
  },
  {
   "cell_type": "code",
   "execution_count": 9,
   "metadata": {},
   "outputs": [
    {
     "name": "stdout",
     "output_type": "stream",
     "text": [
      "CPU times: user 24.3 ms, sys: 189 µs, total: 24.5 ms\n",
      "Wall time: 4.53 s\n",
      "25375\n"
     ]
    }
   ],
   "source": [
    "%time num_path = rdd.map(lambda ((plate,path),times) : (path,1)).keys().distinct().count()\n",
    "print num_path"
   ]
  },
  {
   "cell_type": "code",
   "execution_count": 10,
   "metadata": {},
   "outputs": [],
   "source": [
    "import sys \n",
    "\n",
    "def java_string_hashcode(s):\n",
    "    h = 0\n",
    "    for c in s:\n",
    "        h = (31 * h + ord(c)) & 0xFFFFFFFF\n",
    "    return ((h + 0x80000000) & 0xFFFFFFFF) - 0x80000000\n",
    "\n",
    "def get_hash(path) :\n",
    "    return (java_string_hashcode(path) & sys.maxint) % num_path \n",
    "    "
   ]
  },
  {
   "cell_type": "code",
   "execution_count": 11,
   "metadata": {},
   "outputs": [
    {
     "name": "stdout",
     "output_type": "stream",
     "text": [
      "CPU times: user 56 µs, sys: 12 µs, total: 68 µs\n",
      "Wall time: 73.9 µs\n"
     ]
    }
   ],
   "source": [
    "%time rdd_final  = rdd.map(lambda ((plate,path),times) : (get_hash(path),times ))"
   ]
  },
  {
   "cell_type": "code",
   "execution_count": 12,
   "metadata": {},
   "outputs": [
    {
     "data": {
      "text/plain": [
       "[(17144, 1), (8076, 1), (12158, 1), (15973, 1), (1575, 1)]"
      ]
     },
     "execution_count": 12,
     "metadata": {},
     "output_type": "execute_result"
    }
   ],
   "source": [
    "rdd_final.take(5)"
   ]
  },
  {
   "cell_type": "code",
   "execution_count": 13,
   "metadata": {},
   "outputs": [
    {
     "data": {
      "text/plain": [
       "597894"
      ]
     },
     "execution_count": 13,
     "metadata": {},
     "output_type": "execute_result"
    }
   ],
   "source": [
    "rdd_final.count()"
   ]
  },
  {
   "cell_type": "code",
   "execution_count": 14,
   "metadata": {},
   "outputs": [],
   "source": [
    "from pyspark.mllib.clustering import KMeans\n",
    "from numpy import array\n",
    "from math import sqrt"
   ]
  },
  {
   "cell_type": "code",
   "execution_count": 15,
   "metadata": {},
   "outputs": [
    {
     "name": "stdout",
     "output_type": "stream",
     "text": [
      "CPU times: user 27.6 ms, sys: 7.01 ms, total: 34.6 ms\n",
      "Wall time: 34.5 s\n"
     ]
    }
   ],
   "source": [
    "%time clusters = KMeans.train(rdd_final,4, maxIterations=3, initializationMode=\" kmeans||\")"
   ]
  },
  {
   "cell_type": "code",
   "execution_count": 16,
   "metadata": {},
   "outputs": [],
   "source": [
    "centerX = list()\n",
    "centerY = list()"
   ]
  },
  {
   "cell_type": "code",
   "execution_count": 17,
   "metadata": {},
   "outputs": [
    {
     "name": "stdout",
     "output_type": "stream",
     "text": [
      "cluster 0: [9.03762506e+03 1.00968401e+00]\n",
      "\n",
      "cluster 1: [1.25961174e+03 1.01859592e+00]\n",
      "\n",
      "cluster 2: [2.24207431e+04 1.00542950e+00]\n",
      "\n",
      "cluster 3: [1.60167481e+04 1.01462259e+00]\n",
      "\n"
     ]
    }
   ],
   "source": [
    "for i,center in enumerate(clusters.clusterCenters) :\n",
    "    centerX.append(center[0])\n",
    "    centerY.append(center[1])\n",
    "    print(\"cluster \"+ str(i)+\": \"+str(center)+\"\\n\")"
   ]
  },
  {
   "cell_type": "code",
   "execution_count": 18,
   "metadata": {},
   "outputs": [
    {
     "name": "stdout",
     "output_type": "stream",
     "text": [
      "CPU times: user 24.4 ms, sys: 2.48 ms, total: 26.9 ms\n",
      "Wall time: 53.8 s\n",
      "Within Set Sum of Squared Error = 742809810.984\n"
     ]
    }
   ],
   "source": [
    "def error(point):\n",
    "    center = clusters.centers[clusters.predict(point)]\n",
    "    return sqrt(sum([x**2 for x in (point - center)]))\n",
    "\n",
    "%time WSSSE = rdd_final.map(lambda point: error(point)).reduce(lambda x, y: x + y)\n",
    "print(\"Within Set Sum of Squared Error = \" + str(WSSSE))"
   ]
  },
  {
   "cell_type": "code",
   "execution_count": 20,
   "metadata": {},
   "outputs": [
    {
     "data": {
      "image/png": "[encoded data removed]",
      "text/plain": [
       "<matplotlib.figure.Figure at 0x7f51f44b1090>"
      ]
     },
     "metadata": {},
     "output_type": "display_data"
    }
   ],
   "source": [
    "from pyspark.sql import Row\n",
    "import pandas as pd\n",
    "import matplotlib.pyplot as plt\n",
    "\n",
    "pdf = (rdd_final.map(lambda (path,times) : Row(path=path,times=times))).toDF()\n",
    "pdf = pdf.toPandas()\n",
    "centers = pd.DataFrame({'x': centerX , 'y': centerY})\n",
    "pdf.plot(kind='scatter',x ='path',y='times')\n",
    "plt.plot(centerX,centerY,'rs')\n",
    "plt.show()"
   ]
  },
  {
   "cell_type": "code",
   "execution_count": null,
   "metadata": {},
   "outputs": [],
   "source": []
  }
 ],
 "metadata": {
  "kernelspec": {
   "display_name": "Python 2",
   "language": "python",
   "name": "python2"
  },
  "language_info": {
   "codemirror_mode": {
    "name": "ipython",
    "version": 2
   },
   "file_extension": ".py",
   "mimetype": "text/x-python",
   "name": "python",
   "nbconvert_exporter": "python",
   "pygments_lexer": "ipython2",
   "version": "2.7.14"
  }
 },
 "nbformat": 4,
 "nbformat_minor": 2
}
